{
 "cells": [
  {
   "cell_type": "code",
   "execution_count": 2,
   "id": "7b888c26-bb20-4c8a-a9fe-23070052e4cd",
   "metadata": {},
   "outputs": [
    {
     "name": "stdout",
     "output_type": "stream",
     "text": [
      "True\n",
      "True\n",
      "False\n"
     ]
    }
   ],
   "source": [
    "print (42 == 42)\n",
    "print(42 != '42')\n",
    "print(42 == '42')"
   ]
  },
  {
   "cell_type": "code",
   "execution_count": 4,
   "id": "29ebed03-fa07-4424-925d-7a71c71b0e50",
   "metadata": {},
   "outputs": [
    {
     "data": {
      "text/plain": [
       "False"
      ]
     },
     "execution_count": 4,
     "metadata": {},
     "output_type": "execute_result"
    }
   ],
   "source": [
    "(5<6) and (6<5)"
   ]
  },
  {
   "cell_type": "code",
   "execution_count": 6,
   "id": "82e376dc-1e23-4cd2-a789-5b619a034748",
   "metadata": {},
   "outputs": [
    {
     "data": {
      "text/plain": [
       "True"
      ]
     },
     "execution_count": 6,
     "metadata": {},
     "output_type": "execute_result"
    }
   ],
   "source": [
    "(5<6) or (6<5)"
   ]
  },
  {
   "cell_type": "code",
   "execution_count": 8,
   "id": "4d0a26ce-d430-4d3e-8a90-701580d1f3d0",
   "metadata": {},
   "outputs": [
    {
     "data": {
      "text/plain": [
       "False"
      ]
     },
     "execution_count": 8,
     "metadata": {},
     "output_type": "execute_result"
    }
   ],
   "source": [
    "(7<6) and (6<5)"
   ]
  },
  {
   "cell_type": "code",
   "execution_count": 20,
   "id": "bfa9d4f4-6518-4946-a0cb-c570ae22a83c",
   "metadata": {},
   "outputs": [
    {
     "name": "stdout",
     "output_type": "stream",
     "text": [
      "Enter your password\n"
     ]
    },
    {
     "name": "stdin",
     "output_type": "stream",
     "text": [
      " apple1\n"
     ]
    },
    {
     "name": "stdout",
     "output_type": "stream",
     "text": [
      "ID is correct\n",
      "Password is correct\n"
     ]
    }
   ],
   "source": [
    "ID = 'apple'\n",
    "print(\"Enter your password\")\n",
    "Password = input()\n",
    "\n",
    "\n",
    "if ID == 'apple':\n",
    "    print('ID is correct')\n",
    "    if Password == 'apple1':\n",
    "        print(\"Password is correct\")\n",
    "    else:\n",
    "        print(\"Password is not correct\")"
   ]
  },
  {
   "cell_type": "code",
   "execution_count": 31,
   "id": "859ff255-2070-42b5-887b-927646a767bf",
   "metadata": {},
   "outputs": [
    {
     "name": "stdin",
     "output_type": "stream",
     "text": [
      " 81\n"
     ]
    },
    {
     "name": "stdout",
     "output_type": "stream",
     "text": [
      "Your score  81\n",
      "Your grade is B\n"
     ]
    }
   ],
   "source": [
    "score = input()\n",
    "print(\"Your score \", score)\n",
    "\n",
    "score = int(score)\n",
    "\n",
    "if score >= 90:\n",
    "    print(\"Your grade is A\")\n",
    "elif score >= 80:\n",
    "    print(\"Your grade is B\")\n",
    "elif score >= 70:\n",
    "    print(\"Your grade is C\")\n",
    "else:\n",
    "    print(\"Your grade is D\")"
   ]
  },
  {
   "cell_type": "code",
   "execution_count": null,
   "id": "072e66eb-e9c0-4565-aca0-24d43cd40141",
   "metadata": {},
   "outputs": [],
   "source": []
  },
  {
   "cell_type": "code",
   "execution_count": null,
   "id": "93d0ca8e-e797-4763-9b0a-d91e6f4047cc",
   "metadata": {},
   "outputs": [],
   "source": []
  }
 ],
 "metadata": {
  "kernelspec": {
   "display_name": "Python [conda env:base] *",
   "language": "python",
   "name": "conda-base-py"
  },
  "language_info": {
   "codemirror_mode": {
    "name": "ipython",
    "version": 3
   },
   "file_extension": ".py",
   "mimetype": "text/x-python",
   "name": "python",
   "nbconvert_exporter": "python",
   "pygments_lexer": "ipython3",
   "version": "3.12.7"
  }
 },
 "nbformat": 4,
 "nbformat_minor": 5
}
