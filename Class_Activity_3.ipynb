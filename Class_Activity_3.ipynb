{
 "cells": [
  {
   "cell_type": "code",
   "execution_count": 21,
   "id": "80424e67-f8af-43b2-af90-d2a2dbd61930",
   "metadata": {},
   "outputs": [],
   "source": [
    "#!pip install random"
   ]
  },
  {
   "cell_type": "code",
   "execution_count": 22,
   "id": "e0eeb07b-5941-4be8-9245-d62175d94084",
   "metadata": {},
   "outputs": [],
   "source": [
    "import random"
   ]
  },
  {
   "cell_type": "code",
   "execution_count": 23,
   "id": "79dd5890-9ea9-4bb9-8e81-a86685b1e020",
   "metadata": {},
   "outputs": [
    {
     "name": "stdout",
     "output_type": "stream",
     "text": [
      "I am thinking of a number between 1 and 40\n"
     ]
    }
   ],
   "source": [
    "guessnumber = random.randint(1,40)\n",
    "print('I am thinking of a number between 1 and 40')"
   ]
  },
  {
   "cell_type": "code",
   "execution_count": 24,
   "id": "62640006-0b1d-4c03-b299-bbbb15cd9e9d",
   "metadata": {},
   "outputs": [
    {
     "name": "stdout",
     "output_type": "stream",
     "text": [
      "Take a guess\n"
     ]
    },
    {
     "name": "stdin",
     "output_type": "stream",
     "text": [
      " 16\n"
     ]
    },
    {
     "name": "stdout",
     "output_type": "stream",
     "text": [
      "Your guess is too low\n",
      "Take a guess\n"
     ]
    },
    {
     "name": "stdin",
     "output_type": "stream",
     "text": [
      " 27\n"
     ]
    },
    {
     "name": "stdout",
     "output_type": "stream",
     "text": [
      "Your guess is too high\n",
      "Take a guess\n"
     ]
    },
    {
     "name": "stdin",
     "output_type": "stream",
     "text": [
      " 25\n"
     ]
    },
    {
     "name": "stdout",
     "output_type": "stream",
     "text": [
      "Your guess is too high\n",
      "Take a guess\n"
     ]
    },
    {
     "name": "stdin",
     "output_type": "stream",
     "text": [
      " 21\n"
     ]
    },
    {
     "name": "stdout",
     "output_type": "stream",
     "text": [
      "Your guess is too low\n",
      "Take a guess\n"
     ]
    },
    {
     "name": "stdin",
     "output_type": "stream",
     "text": [
      " 22\n"
     ]
    },
    {
     "name": "stdout",
     "output_type": "stream",
     "text": [
      "Your guess is too low\n",
      "Take a guess\n"
     ]
    },
    {
     "name": "stdin",
     "output_type": "stream",
     "text": [
      " 24\n"
     ]
    },
    {
     "name": "stdout",
     "output_type": "stream",
     "text": [
      "You guessed my number in 5 guesses!\n"
     ]
    }
   ],
   "source": [
    "for i in range(10):\n",
    "    print('Take a guess')\n",
    "    yourguess =  int(input())\n",
    "\n",
    "    if yourguess < guessnumber:\n",
    "        print('Your guess is too low')\n",
    "    elif yourguess > guessnumber:\n",
    "        print('Your guess is too high')\n",
    "    else:\n",
    "        break\n",
    "\n",
    "if yourguess == guessnumber:\n",
    "    print('You guessed my number in ' + str(i) + ' guesses!')\n",
    "else:\n",
    "    print('No'+'The number I was thinking of was ' + str(guessnumber))"
   ]
  },
  {
   "cell_type": "code",
   "execution_count": null,
   "id": "cbff6da3-402b-4ece-9e55-bd2fbc939649",
   "metadata": {},
   "outputs": [],
   "source": []
  },
  {
   "cell_type": "code",
   "execution_count": null,
   "id": "aa9bd2d9-1dd2-4340-b897-f84a5e5b2ebc",
   "metadata": {},
   "outputs": [],
   "source": []
  },
  {
   "cell_type": "code",
   "execution_count": null,
   "id": "a68a7f2b-fe60-4645-9a28-9ac3634c31bf",
   "metadata": {},
   "outputs": [],
   "source": []
  }
 ],
 "metadata": {
  "kernelspec": {
   "display_name": "Python [conda env:base] *",
   "language": "python",
   "name": "conda-base-py"
  },
  "language_info": {
   "codemirror_mode": {
    "name": "ipython",
    "version": 3
   },
   "file_extension": ".py",
   "mimetype": "text/x-python",
   "name": "python",
   "nbconvert_exporter": "python",
   "pygments_lexer": "ipython3",
   "version": "3.12.7"
  }
 },
 "nbformat": 4,
 "nbformat_minor": 5
}
