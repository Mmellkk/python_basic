{
 "cells": [
  {
   "cell_type": "code",
   "execution_count": 40,
   "id": "dc2b5abf-ed2a-401c-98b4-1f238c81f9e2",
   "metadata": {},
   "outputs": [
    {
     "name": "stdout",
     "output_type": "stream",
     "text": [
      "The game is Rock, Scissors, and Paper\n"
     ]
    }
   ],
   "source": [
    "import random, sys\n",
    "\n",
    "print(\"The game is Rock, Scissors, and Paper\")"
   ]
  },
  {
   "cell_type": "code",
   "execution_count": 41,
   "id": "81e9b2d3-a4e6-45e0-9254-f9a77aeac87b",
   "metadata": {},
   "outputs": [],
   "source": [
    "wins = 0\n",
    "losses = 0\n",
    "ties = 0"
   ]
  },
  {
   "cell_type": "code",
   "execution_count": null,
   "id": "52f569c5-bde8-4393-a144-25ec163bcf13",
   "metadata": {},
   "outputs": [],
   "source": [
    "while True:\n",
    "    print('how many times youve wons ' + str(wins))\n",
    "    print('how many times youve lost ' + str(losses))\n",
    "    print('how many times youve tied ' + str(ties))\n",
    "\n",
    "\n",
    "    print(\"Enter your movement: (r)ock (p)aper (s)cissors or (q) is quit\")\n",
    "    yourmove = input()\n",
    "    if yourmove == 'q':\n",
    "        sys.exit()\n",
    "    if yourmove == 'r' or yourmove == 'p' or yourmove =='s':\n",
    "        print(\"You are good\")\n",
    "\n",
    "    print('Type one of r,p,s, or q')\n",
    "\n",
    "    if yourmove == 'r':\n",
    "        print(\"Rock versus\")\n",
    "    elif yourmove == 's':\n",
    "        print(\"Scissors vesus\")\n",
    "    elif yourmove == 'p':\n",
    "        print(\"Paper versus\")\n",
    "\n",
    "\n",
    "    randomnum = random.randint(1,3)\n",
    "\n",
    "    if randomnum == 1:\n",
    "        computermove = 'r'\n",
    "        print(\"Computer's move is r\")\n",
    "    elif randomnum == 2:\n",
    "        computermove = 's'\n",
    "        print(\"Computer's move is s\")\n",
    "    elif randomnum == 3:\n",
    "        computermove = 'p'\n",
    "        print(\"Computer's move is p\")\n",
    "\n",
    "\n",
    "    if yourmove == computermove:\n",
    "        print(\"Tie \\n\")\n",
    "        ties = ties + 1\n",
    "    elif yourmove =='r' and computermove == 's':\n",
    "        print(\"You win \\n\")\n",
    "        wins = wins + 1\n",
    "    elif yourmove =='r' and computermove == 'p':\n",
    "        print(\"You lose \\n\")\n",
    "        losses = losses + 1\n",
    "    elif yourmove == 's' and computermove == 'r':\n",
    "        print('You lose \\n')\n",
    "        losses = losses + 1\n",
    "    elif yourmove =='s' and computermove == 'p':\n",
    "        print('You win \\n')\n",
    "        wins = wins + 1\n",
    "    elif yourmove =='p' and computermove == 'r':\n",
    "        print(\"You win \\n\")\n",
    "        wins = wins + 1\n",
    "    elif yourmove =='p' and computermove == 's':\n",
    "        print(\"You lose \\n\")\n",
    "        losses = losses + 1"
   ]
  },
  {
   "cell_type": "code",
   "execution_count": null,
   "id": "c44586f1-0a81-4e78-8fdd-b9420081c601",
   "metadata": {},
   "outputs": [],
   "source": []
  }
 ],
 "metadata": {
  "kernelspec": {
   "display_name": "Python [conda env:base] *",
   "language": "python",
   "name": "conda-base-py"
  },
  "language_info": {
   "codemirror_mode": {
    "name": "ipython",
    "version": 3
   },
   "file_extension": ".py",
   "mimetype": "text/x-python",
   "name": "python",
   "nbconvert_exporter": "python",
   "pygments_lexer": "ipython3",
   "version": "3.12.7"
  }
 },
 "nbformat": 4,
 "nbformat_minor": 5
}
